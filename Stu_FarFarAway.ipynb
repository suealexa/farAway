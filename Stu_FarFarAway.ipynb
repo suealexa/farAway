{
 "cells": [
  {
   "cell_type": "code",
   "execution_count": 2,
   "metadata": {},
   "outputs": [],
   "source": [
    "# Dependencies\n",
    "import requests\n",
    "import json"
   ]
  },
  {
   "cell_type": "code",
   "execution_count": 3,
   "metadata": {},
   "outputs": [],
   "source": [
    "# URL for GET requests to retrieve Star Wars character data\n",
    "base_url = \"https://swapi.co/api/people/\""
   ]
  },
  {
   "cell_type": "code",
   "execution_count": 4,
   "metadata": {},
   "outputs": [
    {
     "name": "stdout",
     "output_type": "stream",
     "text": [
      "https://swapi.co/api/people/4\n"
     ]
    }
   ],
   "source": [
    "# Create a url with a specific character id\n",
    "character_id = '4'\n",
    "url = base_url + character_id\n",
    "print(url)"
   ]
  },
  {
   "cell_type": "code",
   "execution_count": 5,
   "metadata": {},
   "outputs": [
    {
     "name": "stdout",
     "output_type": "stream",
     "text": [
      "https://swapi.co/api/people/4/\n"
     ]
    }
   ],
   "source": [
    "# Perform a get request for this character\n",
    "response = requests.get(url)\n",
    "print(response.url)"
   ]
  },
  {
   "cell_type": "code",
   "execution_count": 6,
   "metadata": {
    "scrolled": true
   },
   "outputs": [
    {
     "name": "stdout",
     "output_type": "stream",
     "text": [
      "{\n",
      "    \"birth_year\": \"41.9BBY\",\n",
      "    \"created\": \"2014-12-10T15:18:20.704000Z\",\n",
      "    \"edited\": \"2014-12-20T21:17:50.313000Z\",\n",
      "    \"eye_color\": \"yellow\",\n",
      "    \"films\": [\n",
      "        \"https://swapi.co/api/films/2/\",\n",
      "        \"https://swapi.co/api/films/6/\",\n",
      "        \"https://swapi.co/api/films/3/\",\n",
      "        \"https://swapi.co/api/films/1/\"\n",
      "    ],\n",
      "    \"gender\": \"male\",\n",
      "    \"hair_color\": \"none\",\n",
      "    \"height\": \"202\",\n",
      "    \"homeworld\": \"https://swapi.co/api/planets/1/\",\n",
      "    \"mass\": \"136\",\n",
      "    \"name\": \"Darth Vader\",\n",
      "    \"skin_color\": \"white\",\n",
      "    \"species\": [\n",
      "        \"https://swapi.co/api/species/1/\"\n",
      "    ],\n",
      "    \"starships\": [\n",
      "        \"https://swapi.co/api/starships/13/\"\n",
      "    ],\n",
      "    \"url\": \"https://swapi.co/api/people/4/\",\n",
      "    \"vehicles\": []\n",
      "}\n"
     ]
    }
   ],
   "source": [
    "# Storing the JSON response within a variable\n",
    "data = response.json()\n",
    "print(json.dumps(data, indent=4, sort_keys=True))"
   ]
  },
  {
   "cell_type": "code",
   "execution_count": 8,
   "metadata": {},
   "outputs": [],
   "source": [
    "# Collecting the name of the character collected\n",
    "character_name = data[\"name\"]"
   ]
  },
  {
   "cell_type": "code",
   "execution_count": 9,
   "metadata": {},
   "outputs": [],
   "source": [
    "# Counting how many films the character was in\n",
    "film_number = len(data[\"films\"])"
   ]
  },
  {
   "cell_type": "code",
   "execution_count": 11,
   "metadata": {},
   "outputs": [
    {
     "name": "stdout",
     "output_type": "stream",
     "text": [
      "https://swapi.co/api/films/1/\n"
     ]
    }
   ],
   "source": [
    "fourth_film_name = data[\"films\"][3]\n",
    "print(fourth_film_name)"
   ]
  },
  {
   "cell_type": "code",
   "execution_count": 8,
   "metadata": {},
   "outputs": [
    {
     "data": {
      "text/plain": [
       "{'MGLT': '105',\n",
       " 'cargo_capacity': '150',\n",
       " 'consumables': '5 days',\n",
       " 'cost_in_credits': 'unknown',\n",
       " 'created': '2014-12-12T11:21:32.991000Z',\n",
       " 'crew': '1',\n",
       " 'edited': '2014-12-22T17:35:44.549047Z',\n",
       " 'films': ['https://swapi.co/api/films/1/'],\n",
       " 'hyperdrive_rating': '1.0',\n",
       " 'length': '9.2',\n",
       " 'manufacturer': 'Sienar Fleet Systems',\n",
       " 'max_atmosphering_speed': '1200',\n",
       " 'model': 'Twin Ion Engine Advanced x1',\n",
       " 'name': 'TIE Advanced x1',\n",
       " 'passengers': '0',\n",
       " 'pilots': ['https://swapi.co/api/people/4/'],\n",
       " 'starship_class': 'Starfighter',\n",
       " 'url': 'https://swapi.co/api/starships/13/'}"
      ]
     },
     "execution_count": 8,
     "metadata": {},
     "output_type": "execute_result"
    }
   ],
   "source": [
    "# Figure out what their first starship was\n",
    "first_ship_url = data[\"starships\"][0]\n",
    "ship_response = requests.get(first_ship_url).json()\n",
    "ship_response"
   ]
  },
  {
   "cell_type": "code",
   "execution_count": 9,
   "metadata": {
    "collapsed": true
   },
   "outputs": [],
   "source": [
    "first_ship = ship_response[\"name\"]"
   ]
  },
  {
   "cell_type": "code",
   "execution_count": 13,
   "metadata": {},
   "outputs": [
    {
     "name": "stdout",
     "output_type": "stream",
     "text": [
      "Darth Vader was in 4 films\n",
      "Darth Vader was in 4 films\n"
     ]
    }
   ],
   "source": [
    "# Print character name and how many films they were in\n",
    "print(f\"{character_name} was in {film_number} films\") # Formated String (String Literal)\n",
    "print(character_name + \" was in \" + str(film_number) + \" films\") # String Concatination"
   ]
  },
  {
   "cell_type": "code",
   "execution_count": 11,
   "metadata": {},
   "outputs": [
    {
     "name": "stdout",
     "output_type": "stream",
     "text": [
      "Their first ship: TIE Advanced x1\n"
     ]
    }
   ],
   "source": [
    "# Print what their first ship was\n",
    "print(f\"Their first ship: {first_ship}\")"
   ]
  },
  {
   "cell_type": "code",
   "execution_count": 14,
   "metadata": {},
   "outputs": [
    {
     "name": "stdout",
     "output_type": "stream",
     "text": [
      "{'title': 'The Empire Strikes Back', 'episode_id': 5, 'opening_crawl': 'It is a dark time for the\\r\\nRebellion. Although the Death\\r\\nStar has been destroyed,\\r\\nImperial troops have driven the\\r\\nRebel forces from their hidden\\r\\nbase and pursued them across\\r\\nthe galaxy.\\r\\n\\r\\nEvading the dreaded Imperial\\r\\nStarfleet, a group of freedom\\r\\nfighters led by Luke Skywalker\\r\\nhas established a new secret\\r\\nbase on the remote ice world\\r\\nof Hoth.\\r\\n\\r\\nThe evil lord Darth Vader,\\r\\nobsessed with finding young\\r\\nSkywalker, has dispatched\\r\\nthousands of remote probes into\\r\\nthe far reaches of space....', 'director': 'Irvin Kershner', 'producer': 'Gary Kurtz, Rick McCallum', 'release_date': '1980-05-17', 'characters': ['https://swapi.co/api/people/1/', 'https://swapi.co/api/people/2/', 'https://swapi.co/api/people/3/', 'https://swapi.co/api/people/4/', 'https://swapi.co/api/people/5/', 'https://swapi.co/api/people/10/', 'https://swapi.co/api/people/13/', 'https://swapi.co/api/people/14/', 'https://swapi.co/api/people/18/', 'https://swapi.co/api/people/20/', 'https://swapi.co/api/people/21/', 'https://swapi.co/api/people/22/', 'https://swapi.co/api/people/23/', 'https://swapi.co/api/people/24/', 'https://swapi.co/api/people/25/', 'https://swapi.co/api/people/26/'], 'planets': ['https://swapi.co/api/planets/4/', 'https://swapi.co/api/planets/5/', 'https://swapi.co/api/planets/6/', 'https://swapi.co/api/planets/27/'], 'starships': ['https://swapi.co/api/starships/15/', 'https://swapi.co/api/starships/10/', 'https://swapi.co/api/starships/11/', 'https://swapi.co/api/starships/12/', 'https://swapi.co/api/starships/21/', 'https://swapi.co/api/starships/22/', 'https://swapi.co/api/starships/23/', 'https://swapi.co/api/starships/3/', 'https://swapi.co/api/starships/17/'], 'vehicles': ['https://swapi.co/api/vehicles/8/', 'https://swapi.co/api/vehicles/14/', 'https://swapi.co/api/vehicles/16/', 'https://swapi.co/api/vehicles/18/', 'https://swapi.co/api/vehicles/19/', 'https://swapi.co/api/vehicles/20/'], 'species': ['https://swapi.co/api/species/6/', 'https://swapi.co/api/species/7/', 'https://swapi.co/api/species/3/', 'https://swapi.co/api/species/2/', 'https://swapi.co/api/species/1/'], 'created': '2014-12-12T11:26:24.656000Z', 'edited': '2017-04-19T10:57:29.544256Z', 'url': 'https://swapi.co/api/films/2/'}\n",
      "{'title': 'Revenge of the Sith', 'episode_id': 3, 'opening_crawl': 'War! The Republic is crumbling\\r\\nunder attacks by the ruthless\\r\\nSith Lord, Count Dooku.\\r\\nThere are heroes on both sides.\\r\\nEvil is everywhere.\\r\\n\\r\\nIn a stunning move, the\\r\\nfiendish droid leader, General\\r\\nGrievous, has swept into the\\r\\nRepublic capital and kidnapped\\r\\nChancellor Palpatine, leader of\\r\\nthe Galactic Senate.\\r\\n\\r\\nAs the Separatist Droid Army\\r\\nattempts to flee the besieged\\r\\ncapital with their valuable\\r\\nhostage, two Jedi Knights lead a\\r\\ndesperate mission to rescue the\\r\\ncaptive Chancellor....', 'director': 'George Lucas', 'producer': 'Rick McCallum', 'release_date': '2005-05-19', 'characters': ['https://swapi.co/api/people/1/', 'https://swapi.co/api/people/2/', 'https://swapi.co/api/people/3/', 'https://swapi.co/api/people/4/', 'https://swapi.co/api/people/5/', 'https://swapi.co/api/people/6/', 'https://swapi.co/api/people/7/', 'https://swapi.co/api/people/10/', 'https://swapi.co/api/people/11/', 'https://swapi.co/api/people/12/', 'https://swapi.co/api/people/13/', 'https://swapi.co/api/people/20/', 'https://swapi.co/api/people/21/', 'https://swapi.co/api/people/33/', 'https://swapi.co/api/people/46/', 'https://swapi.co/api/people/51/', 'https://swapi.co/api/people/52/', 'https://swapi.co/api/people/53/', 'https://swapi.co/api/people/54/', 'https://swapi.co/api/people/55/', 'https://swapi.co/api/people/56/', 'https://swapi.co/api/people/58/', 'https://swapi.co/api/people/63/', 'https://swapi.co/api/people/64/', 'https://swapi.co/api/people/67/', 'https://swapi.co/api/people/68/', 'https://swapi.co/api/people/75/', 'https://swapi.co/api/people/78/', 'https://swapi.co/api/people/79/', 'https://swapi.co/api/people/80/', 'https://swapi.co/api/people/81/', 'https://swapi.co/api/people/82/', 'https://swapi.co/api/people/83/', 'https://swapi.co/api/people/35/'], 'planets': ['https://swapi.co/api/planets/2/', 'https://swapi.co/api/planets/5/', 'https://swapi.co/api/planets/8/', 'https://swapi.co/api/planets/9/', 'https://swapi.co/api/planets/12/', 'https://swapi.co/api/planets/13/', 'https://swapi.co/api/planets/14/', 'https://swapi.co/api/planets/15/', 'https://swapi.co/api/planets/16/', 'https://swapi.co/api/planets/17/', 'https://swapi.co/api/planets/18/', 'https://swapi.co/api/planets/19/', 'https://swapi.co/api/planets/1/'], 'starships': ['https://swapi.co/api/starships/48/', 'https://swapi.co/api/starships/59/', 'https://swapi.co/api/starships/61/', 'https://swapi.co/api/starships/32/', 'https://swapi.co/api/starships/63/', 'https://swapi.co/api/starships/64/', 'https://swapi.co/api/starships/65/', 'https://swapi.co/api/starships/66/', 'https://swapi.co/api/starships/74/', 'https://swapi.co/api/starships/75/', 'https://swapi.co/api/starships/2/', 'https://swapi.co/api/starships/68/'], 'vehicles': ['https://swapi.co/api/vehicles/33/', 'https://swapi.co/api/vehicles/50/', 'https://swapi.co/api/vehicles/53/', 'https://swapi.co/api/vehicles/56/', 'https://swapi.co/api/vehicles/60/', 'https://swapi.co/api/vehicles/62/', 'https://swapi.co/api/vehicles/67/', 'https://swapi.co/api/vehicles/69/', 'https://swapi.co/api/vehicles/70/', 'https://swapi.co/api/vehicles/71/', 'https://swapi.co/api/vehicles/72/', 'https://swapi.co/api/vehicles/73/', 'https://swapi.co/api/vehicles/76/'], 'species': ['https://swapi.co/api/species/19/', 'https://swapi.co/api/species/33/', 'https://swapi.co/api/species/2/', 'https://swapi.co/api/species/3/', 'https://swapi.co/api/species/36/', 'https://swapi.co/api/species/37/', 'https://swapi.co/api/species/6/', 'https://swapi.co/api/species/1/', 'https://swapi.co/api/species/34/', 'https://swapi.co/api/species/15/', 'https://swapi.co/api/species/35/', 'https://swapi.co/api/species/20/', 'https://swapi.co/api/species/23/', 'https://swapi.co/api/species/24/', 'https://swapi.co/api/species/25/', 'https://swapi.co/api/species/26/', 'https://swapi.co/api/species/27/', 'https://swapi.co/api/species/28/', 'https://swapi.co/api/species/29/', 'https://swapi.co/api/species/30/'], 'created': '2014-12-20T18:49:38.403000Z', 'edited': '2015-04-11T09:45:44.862122Z', 'url': 'https://swapi.co/api/films/6/'}\n",
      "{'title': 'Return of the Jedi', 'episode_id': 6, 'opening_crawl': 'Luke Skywalker has returned to\\r\\nhis home planet of Tatooine in\\r\\nan attempt to rescue his\\r\\nfriend Han Solo from the\\r\\nclutches of the vile gangster\\r\\nJabba the Hutt.\\r\\n\\r\\nLittle does Luke know that the\\r\\nGALACTIC EMPIRE has secretly\\r\\nbegun construction on a new\\r\\narmored space station even\\r\\nmore powerful than the first\\r\\ndreaded Death Star.\\r\\n\\r\\nWhen completed, this ultimate\\r\\nweapon will spell certain doom\\r\\nfor the small band of rebels\\r\\nstruggling to restore freedom\\r\\nto the galaxy...', 'director': 'Richard Marquand', 'producer': 'Howard G. Kazanjian, George Lucas, Rick McCallum', 'release_date': '1983-05-25', 'characters': ['https://swapi.co/api/people/1/', 'https://swapi.co/api/people/2/', 'https://swapi.co/api/people/3/', 'https://swapi.co/api/people/4/', 'https://swapi.co/api/people/5/', 'https://swapi.co/api/people/10/', 'https://swapi.co/api/people/13/', 'https://swapi.co/api/people/14/', 'https://swapi.co/api/people/16/', 'https://swapi.co/api/people/18/', 'https://swapi.co/api/people/20/', 'https://swapi.co/api/people/21/', 'https://swapi.co/api/people/22/', 'https://swapi.co/api/people/25/', 'https://swapi.co/api/people/27/', 'https://swapi.co/api/people/28/', 'https://swapi.co/api/people/29/', 'https://swapi.co/api/people/30/', 'https://swapi.co/api/people/31/', 'https://swapi.co/api/people/45/'], 'planets': ['https://swapi.co/api/planets/5/', 'https://swapi.co/api/planets/7/', 'https://swapi.co/api/planets/8/', 'https://swapi.co/api/planets/9/', 'https://swapi.co/api/planets/1/'], 'starships': ['https://swapi.co/api/starships/15/', 'https://swapi.co/api/starships/10/', 'https://swapi.co/api/starships/11/', 'https://swapi.co/api/starships/12/', 'https://swapi.co/api/starships/22/', 'https://swapi.co/api/starships/23/', 'https://swapi.co/api/starships/27/', 'https://swapi.co/api/starships/28/', 'https://swapi.co/api/starships/29/', 'https://swapi.co/api/starships/3/', 'https://swapi.co/api/starships/17/', 'https://swapi.co/api/starships/2/'], 'vehicles': ['https://swapi.co/api/vehicles/8/', 'https://swapi.co/api/vehicles/16/', 'https://swapi.co/api/vehicles/18/', 'https://swapi.co/api/vehicles/19/', 'https://swapi.co/api/vehicles/24/', 'https://swapi.co/api/vehicles/25/', 'https://swapi.co/api/vehicles/26/', 'https://swapi.co/api/vehicles/30/'], 'species': ['https://swapi.co/api/species/1/', 'https://swapi.co/api/species/2/', 'https://swapi.co/api/species/3/', 'https://swapi.co/api/species/5/', 'https://swapi.co/api/species/6/', 'https://swapi.co/api/species/8/', 'https://swapi.co/api/species/9/', 'https://swapi.co/api/species/10/', 'https://swapi.co/api/species/15/'], 'created': '2014-12-18T10:39:33.255000Z', 'edited': '2015-04-11T09:46:05.220365Z', 'url': 'https://swapi.co/api/films/3/'}\n"
     ]
    },
    {
     "name": "stdout",
     "output_type": "stream",
     "text": [
      "{'title': 'A New Hope', 'episode_id': 4, 'opening_crawl': \"It is a period of civil war.\\r\\nRebel spaceships, striking\\r\\nfrom a hidden base, have won\\r\\ntheir first victory against\\r\\nthe evil Galactic Empire.\\r\\n\\r\\nDuring the battle, Rebel\\r\\nspies managed to steal secret\\r\\nplans to the Empire's\\r\\nultimate weapon, the DEATH\\r\\nSTAR, an armored space\\r\\nstation with enough power\\r\\nto destroy an entire planet.\\r\\n\\r\\nPursued by the Empire's\\r\\nsinister agents, Princess\\r\\nLeia races home aboard her\\r\\nstarship, custodian of the\\r\\nstolen plans that can save her\\r\\npeople and restore\\r\\nfreedom to the galaxy....\", 'director': 'George Lucas', 'producer': 'Gary Kurtz, Rick McCallum', 'release_date': '1977-05-25', 'characters': ['https://swapi.co/api/people/1/', 'https://swapi.co/api/people/2/', 'https://swapi.co/api/people/3/', 'https://swapi.co/api/people/4/', 'https://swapi.co/api/people/5/', 'https://swapi.co/api/people/6/', 'https://swapi.co/api/people/7/', 'https://swapi.co/api/people/8/', 'https://swapi.co/api/people/9/', 'https://swapi.co/api/people/10/', 'https://swapi.co/api/people/12/', 'https://swapi.co/api/people/13/', 'https://swapi.co/api/people/14/', 'https://swapi.co/api/people/15/', 'https://swapi.co/api/people/16/', 'https://swapi.co/api/people/18/', 'https://swapi.co/api/people/19/', 'https://swapi.co/api/people/81/'], 'planets': ['https://swapi.co/api/planets/2/', 'https://swapi.co/api/planets/3/', 'https://swapi.co/api/planets/1/'], 'starships': ['https://swapi.co/api/starships/2/', 'https://swapi.co/api/starships/3/', 'https://swapi.co/api/starships/5/', 'https://swapi.co/api/starships/9/', 'https://swapi.co/api/starships/10/', 'https://swapi.co/api/starships/11/', 'https://swapi.co/api/starships/12/', 'https://swapi.co/api/starships/13/'], 'vehicles': ['https://swapi.co/api/vehicles/4/', 'https://swapi.co/api/vehicles/6/', 'https://swapi.co/api/vehicles/7/', 'https://swapi.co/api/vehicles/8/'], 'species': ['https://swapi.co/api/species/5/', 'https://swapi.co/api/species/3/', 'https://swapi.co/api/species/2/', 'https://swapi.co/api/species/1/', 'https://swapi.co/api/species/4/'], 'created': '2014-12-10T14:23:31.880000Z', 'edited': '2015-04-11T09:46:52.774897Z', 'url': 'https://swapi.co/api/films/1/'}\n",
      "Darth Vader was in:\n",
      "['The Empire Strikes Back', 'Revenge of the Sith', 'Return of the Jedi', 'A New Hope']\n"
     ]
    }
   ],
   "source": [
    "# BONUS\n",
    "films = []\n",
    "\n",
    "for film in data['films']\n",
    "    cur_film = requests.get(film).json()\n",
    "    print(cur_film)\n",
    "    film_title = cur_film[\"title\"]\n",
    "    film_id = cur_film[\"episode_id\"]\n",
    "    films.append(film_title)\n",
    "    \n",
    "print(f\"{character_name} was in:\")\n",
    "print(films)"
   ]
  },
  {
   "cell_type": "code",
   "execution_count": null,
   "metadata": {
    "collapsed": true
   },
   "outputs": [],
   "source": []
  }
 ],
 "metadata": {
  "kernelspec": {
   "display_name": "Python 3",
   "language": "python",
   "name": "python3"
  },
  "language_info": {
   "codemirror_mode": {
    "name": "ipython",
    "version": 3
   },
   "file_extension": ".py",
   "mimetype": "text/x-python",
   "name": "python",
   "nbconvert_exporter": "python",
   "pygments_lexer": "ipython3",
   "version": "3.6.9"
  },
  "varInspector": {
   "cols": {
    "lenName": 16,
    "lenType": 16,
    "lenVar": 40
   },
   "kernels_config": {
    "python": {
     "delete_cmd_postfix": "",
     "delete_cmd_prefix": "del ",
     "library": "var_list.py",
     "varRefreshCmd": "print(var_dic_list())"
    },
    "r": {
     "delete_cmd_postfix": ") ",
     "delete_cmd_prefix": "rm(",
     "library": "var_list.r",
     "varRefreshCmd": "cat(var_dic_list()) "
    }
   },
   "types_to_exclude": [
    "module",
    "function",
    "builtin_function_or_method",
    "instance",
    "_Feature"
   ],
   "window_display": false
  }
 },
 "nbformat": 4,
 "nbformat_minor": 2
}
